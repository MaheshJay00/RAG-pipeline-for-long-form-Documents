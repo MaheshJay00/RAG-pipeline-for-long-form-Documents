{
 "cells": [
  {
   "cell_type": "code",
   "execution_count": 1,
   "metadata": {},
   "outputs": [],
   "source": [
    "import faiss\n",
    "import numpy as np\n",
    "import json\n",
    "from sentence_transformers import SentenceTransformer\n",
    "import matplotlib.pyplot as plt"
   ]
  },
  {
   "cell_type": "code",
   "execution_count": 6,
   "metadata": {},
   "outputs": [],
   "source": [
    "FAISS_INDEX_PATH = \"output/faiss_index.bin\"\n",
    "EMBEDDINGS_JSON = \"output/embeddings.json\""
   ]
  },
  {
   "cell_type": "code",
   "execution_count": 7,
   "metadata": {},
   "outputs": [
    {
     "name": "stdout",
     "output_type": "stream",
     "text": [
      "🔍 Loading FAISS Index...\n"
     ]
    }
   ],
   "source": [
    "print(\"🔍 Loading FAISS Index...\")\n",
    "index = faiss.read_index(FAISS_INDEX_PATH)\n"
   ]
  },
  {
   "cell_type": "code",
   "execution_count": 8,
   "metadata": {},
   "outputs": [],
   "source": [
    "with open(EMBEDDINGS_JSON, \"r\", encoding=\"utf-8\") as f:\n",
    "    data = json.load(f)"
   ]
  },
  {
   "cell_type": "code",
   "execution_count": 9,
   "metadata": {},
   "outputs": [],
   "source": [
    "texts = data[\"texts\"]\n",
    "embeddings = np.array(data[\"embeddings\"], dtype=np.float32)"
   ]
  },
  {
   "cell_type": "code",
   "execution_count": 10,
   "metadata": {},
   "outputs": [
    {
     "name": "stdout",
     "output_type": "stream",
     "text": [
      "✅ FAISS index contains 39 stored vectors.\n"
     ]
    }
   ],
   "source": [
    "print(f\"✅ FAISS index contains {index.ntotal} stored vectors.\")"
   ]
  },
  {
   "cell_type": "code",
   "execution_count": 11,
   "metadata": {},
   "outputs": [],
   "source": [
    "embedder = SentenceTransformer(\"sentence-transformers/all-mpnet-base-v2\")\n"
   ]
  },
  {
   "cell_type": "code",
   "execution_count": 19,
   "metadata": {},
   "outputs": [
    {
     "name": "stdout",
     "output_type": "stream",
     "text": [
      "\n",
      "🔹 Query: Find the order id.\n",
      "🔍 Top Matching Documents:\n",
      "\n",
      "1. Order ID: 10248 (Score: 0.6732)\n",
      "2. Order Date: 2016-07-04 (Score: 0.8814)\n",
      "3. Product ID (Score: 0.9493)\n"
     ]
    }
   ],
   "source": [
    "def search_faiss(query, top_k=5):\n",
    "    \"\"\"\n",
    "    Performs a FAISS similarity search for a given query and returns retrieved document texts.\n",
    "    \"\"\"\n",
    "    query_embedding = embedder.encode(query, convert_to_tensor=False).astype(\"float32\")\n",
    "    \n",
    "    distances, indices = index.search(np.array([query_embedding]), top_k)\n",
    "\n",
    "    print(f\"\\n🔹 Query: {query}\")\n",
    "    print(\"🔍 Top Matching Documents:\\n\")\n",
    "\n",
    "    retrieved_docs = []\n",
    "    for i, idx in enumerate(indices[0]):\n",
    "        if idx < len(texts):  # Ensure index is within bounds\n",
    "            doc_text = texts[idx].strip()\n",
    "            retrieved_docs.append((doc_text, distances[0][i]))\n",
    "            print(f\"{i+1}. {doc_text} (Score: {distances[0][i]:.4f})\")\n",
    "\n",
    "    return retrieved_docs, indices[0], distances[0]\n",
    "\n",
    "# 📌 Run an example query to test\n",
    "query = \"Find the order id.\"\n",
    "retrieved_docs, top_indices, _ = search_faiss(query, top_k=3)\n"
   ]
  },
  {
   "cell_type": "code",
   "execution_count": 18,
   "metadata": {},
   "outputs": [
    {
     "name": "stdout",
     "output_type": "stream",
     "text": [
      "\n",
      "🔹 Query: Find the unit price and product name\n",
      "🔍 Top Matching Documents:\n",
      "\n",
      "1. Unit Price (Score: 0.7310)\n",
      "2. Product Name (Score: 0.8392)\n",
      "3. Product ID (Score: 0.9696)\n"
     ]
    },
    {
     "data": {
      "text/plain": [
       "([('Unit Price', 0.7310325),\n",
       "  ('Product Name', 0.83920574),\n",
       "  ('Product ID', 0.9695886)],\n",
       " array([23, 21, 20], dtype=int64),\n",
       " array([0.7310325 , 0.83920574, 0.9695886 ], dtype=float32))"
      ]
     },
     "execution_count": 18,
     "metadata": {},
     "output_type": "execute_result"
    }
   ],
   "source": [
    "query = \"Find the unit price and product name\"\n",
    "search_faiss(query, top_k=3)"
   ]
  },
  {
   "cell_type": "code",
   "execution_count": 14,
   "metadata": {},
   "outputs": [],
   "source": [
    "def plot_similarity_matrix(query_embedding, top_indices):\n",
    "    \"\"\"\n",
    "    Visualizes cosine similarity between the query embedding and retrieved vectors.\n",
    "    \"\"\"\n",
    "    retrieved_vectors = embeddings[top_indices]\n",
    "    \n",
    "    similarity_scores = np.dot(retrieved_vectors, query_embedding) / (\n",
    "        np.linalg.norm(retrieved_vectors, axis=1) * np.linalg.norm(query_embedding)\n",
    "    )\n",
    "\n",
    "    plt.figure(figsize=(8, 5))\n",
    "    plt.barh(range(len(top_indices)), similarity_scores[::-1], color=\"blue\")\n",
    "    plt.yticks(range(len(top_indices)), [texts[i] for i in top_indices[::-1]], fontsize=10)\n",
    "    plt.xlabel(\"Cosine Similarity\", fontsize=12)\n",
    "    plt.title(\"Similarity Scores for Top Retrieved Documents\", fontsize=14)\n",
    "    plt.show()"
   ]
  },
  {
   "cell_type": "code",
   "execution_count": 15,
   "metadata": {},
   "outputs": [
    {
     "name": "stdout",
     "output_type": "stream",
     "text": [
      "\n",
      "🔹 Query: Find the unit price and product name\n",
      "🔍 Top Matching Documents:\n",
      "\n",
      "1. Unit Price (Score: 0.7310)\n",
      "2. Product Name (Score: 0.8392)\n",
      "3. Product ID (Score: 0.9696)\n",
      "4. Product Details: (Score: 1.0672)\n",
      "5. TotalPrice (Score: 1.1497)\n"
     ]
    },
    {
     "data": {
      "image/png": "[encoded data removed]",
      "text/plain": [
       "<Figure size 800x500 with 1 Axes>"
      ]
     },
     "metadata": {},
     "output_type": "display_data"
    }
   ],
   "source": [
    "query_embedding = embedder.encode(query, convert_to_tensor=False).astype(\"float32\")\n",
    "top_indices, _ = search_faiss(query, top_k=5)\n",
    "plot_similarity_matrix(query_embedding, top_indices)"
   ]
  }
 ],
 "metadata": {
  "kernelspec": {
   "display_name": "base",
   "language": "python",
   "name": "python3"
  },
  "language_info": {
   "codemirror_mode": {
    "name": "ipython",
    "version": 3
   },
   "file_extension": ".py",
   "mimetype": "text/x-python",
   "name": "python",
   "nbconvert_exporter": "python",
   "pygments_lexer": "ipython3",
   "version": "3.12.7"
  }
 },
 "nbformat": 4,
 "nbformat_minor": 2
}
